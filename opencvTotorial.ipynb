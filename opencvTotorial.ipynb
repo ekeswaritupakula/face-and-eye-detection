{
 "cells": [
  {
   "cell_type": "code",
   "execution_count": 1,
   "metadata": {},
   "outputs": [
    {
     "name": "stdout",
     "output_type": "stream",
     "text": [
      "Defaulting to user installation because normal site-packages is not writeable\n",
      "Collecting opencv-python\n",
      "  Downloading opencv_python-4.11.0.86-cp37-abi3-win_amd64.whl.metadata (20 kB)\n",
      "Collecting numpy>=1.21.2 (from opencv-python)\n",
      "  Downloading numpy-2.3.0-cp312-cp312-win_amd64.whl.metadata (60 kB)\n",
      "Downloading opencv_python-4.11.0.86-cp37-abi3-win_amd64.whl (39.5 MB)\n",
      "   ---------------------------------------- 0.0/39.5 MB ? eta -:--:--\n",
      "   - -------------------------------------- 1.3/39.5 MB 7.4 MB/s eta 0:00:06\n",
      "   --- ------------------------------------ 3.4/39.5 MB 8.8 MB/s eta 0:00:05\n",
      "   ----- ---------------------------------- 5.2/39.5 MB 8.6 MB/s eta 0:00:04\n",
      "   ------ --------------------------------- 6.8/39.5 MB 8.4 MB/s eta 0:00:04\n",
      "   -------- ------------------------------- 8.4/39.5 MB 8.4 MB/s eta 0:00:04\n",
      "   ---------- ----------------------------- 10.0/39.5 MB 8.1 MB/s eta 0:00:04\n",
      "   ------------ --------------------------- 12.1/39.5 MB 8.2 MB/s eta 0:00:04\n",
      "   ------------- -------------------------- 13.6/39.5 MB 8.1 MB/s eta 0:00:04\n",
      "   --------------- ------------------------ 15.2/39.5 MB 8.0 MB/s eta 0:00:04\n",
      "   ----------------- ---------------------- 17.0/39.5 MB 8.1 MB/s eta 0:00:03\n",
      "   ------------------- -------------------- 18.9/39.5 MB 8.1 MB/s eta 0:00:03\n",
      "   ------------------- -------------------- 19.1/39.5 MB 8.0 MB/s eta 0:00:03\n",
      "   -------------------- ------------------- 19.9/39.5 MB 7.2 MB/s eta 0:00:03\n",
      "   ---------------------- ----------------- 22.0/39.5 MB 7.4 MB/s eta 0:00:03\n",
      "   ------------------------ --------------- 23.9/39.5 MB 7.5 MB/s eta 0:00:03\n",
      "   ------------------------- -------------- 25.4/39.5 MB 7.5 MB/s eta 0:00:02\n",
      "   --------------------------- ------------ 26.7/39.5 MB 7.5 MB/s eta 0:00:02\n",
      "   --------------------------- ------------ 27.0/39.5 MB 7.1 MB/s eta 0:00:02\n",
      "   --------------------------- ------------ 27.5/39.5 MB 6.9 MB/s eta 0:00:02\n",
      "   ---------------------------- ----------- 28.3/39.5 MB 6.6 MB/s eta 0:00:02\n",
      "   ----------------------------- ---------- 29.1/39.5 MB 6.5 MB/s eta 0:00:02\n",
      "   ------------------------------ --------- 29.9/39.5 MB 6.4 MB/s eta 0:00:02\n",
      "   ------------------------------- -------- 30.9/39.5 MB 6.3 MB/s eta 0:00:02\n",
      "   -------------------------------- ------- 31.7/39.5 MB 6.2 MB/s eta 0:00:02\n",
      "   -------------------------------- ------- 32.2/39.5 MB 6.1 MB/s eta 0:00:02\n",
      "   --------------------------------- ------ 33.6/39.5 MB 6.0 MB/s eta 0:00:01\n",
      "   ----------------------------------- ---- 35.1/39.5 MB 6.1 MB/s eta 0:00:01\n",
      "   ------------------------------------ --- 36.4/39.5 MB 6.1 MB/s eta 0:00:01\n",
      "   ------------------------------------- -- 37.5/39.5 MB 6.0 MB/s eta 0:00:01\n",
      "   ---------------------------------------  39.1/39.5 MB 6.1 MB/s eta 0:00:01\n",
      "   ---------------------------------------- 39.5/39.5 MB 5.9 MB/s eta 0:00:00\n",
      "Downloading numpy-2.3.0-cp312-cp312-win_amd64.whl (12.7 MB)\n",
      "   ---------------------------------------- 0.0/12.7 MB ? eta -:--:--\n",
      "   --- ------------------------------------ 1.0/12.7 MB 6.3 MB/s eta 0:00:02\n",
      "   ------- -------------------------------- 2.4/12.7 MB 5.8 MB/s eta 0:00:02\n",
      "   --------- ------------------------------ 3.1/12.7 MB 5.3 MB/s eta 0:00:02\n",
      "   -------------- ------------------------- 4.5/12.7 MB 5.5 MB/s eta 0:00:02\n",
      "   --------------- ------------------------ 5.0/12.7 MB 5.7 MB/s eta 0:00:02\n",
      "   ---------------- ----------------------- 5.2/12.7 MB 4.8 MB/s eta 0:00:02\n",
      "   ---------------- ----------------------- 5.2/12.7 MB 4.8 MB/s eta 0:00:02\n",
      "   ---------------- ----------------------- 5.2/12.7 MB 4.8 MB/s eta 0:00:02\n",
      "   ---------------- ----------------------- 5.2/12.7 MB 4.8 MB/s eta 0:00:02\n",
      "   ---------------- ----------------------- 5.2/12.7 MB 4.8 MB/s eta 0:00:02\n",
      "   ---------------- ----------------------- 5.2/12.7 MB 4.8 MB/s eta 0:00:02\n",
      "   ----------------- ---------------------- 5.5/12.7 MB 2.2 MB/s eta 0:00:04\n",
      "   ------------------ --------------------- 6.0/12.7 MB 2.1 MB/s eta 0:00:04\n",
      "   ---------------------- ----------------- 7.1/12.7 MB 2.3 MB/s eta 0:00:03\n",
      "   -------------------------- ------------- 8.4/12.7 MB 2.5 MB/s eta 0:00:02\n",
      "   ----------------------------- ---------- 9.4/12.7 MB 2.7 MB/s eta 0:00:02\n",
      "   -------------------------------- ------- 10.2/12.7 MB 2.8 MB/s eta 0:00:01\n",
      "   --------------------------------- ------ 10.7/12.7 MB 2.8 MB/s eta 0:00:01\n",
      "   ------------------------------------ --- 11.5/12.7 MB 2.9 MB/s eta 0:00:01\n",
      "   ------------------------------------- -- 12.1/12.7 MB 2.8 MB/s eta 0:00:01\n",
      "   -------------------------------------- - 12.3/12.7 MB 2.8 MB/s eta 0:00:01\n",
      "   ---------------------------------------- 12.7/12.7 MB 2.7 MB/s eta 0:00:00\n",
      "Installing collected packages: numpy, opencv-python\n",
      "Successfully installed numpy-2.3.0 opencv-python-4.11.0.86\n",
      "Note: you may need to restart the kernel to use updated packages.\n"
     ]
    },
    {
     "name": "stderr",
     "output_type": "stream",
     "text": [
      "\n",
      "[notice] A new release of pip is available: 24.2 -> 25.1.1\n",
      "[notice] To update, run: python.exe -m pip install --upgrade pip\n"
     ]
    }
   ],
   "source": [
    "pip install opencv-python\n"
   ]
  },
  {
   "cell_type": "code",
   "execution_count": 6,
   "metadata": {},
   "outputs": [
    {
     "name": "stdout",
     "output_type": "stream",
     "text": [
      "(527, 473, 3)\n"
     ]
    }
   ],
   "source": [
    "import cv2\n",
    "\n",
    "# Read an image from file\n",
    "image = cv2.imread('Ekeswari.png')\n",
    "print(image.shape)\n",
    "# Display the image in a window\n",
    "cv2.imshow('Image', image)\n",
    "cv2.waitKey(0)\n",
    "cv2.destroyAllWindows()\n"
   ]
  },
  {
   "cell_type": "code",
   "execution_count": 7,
   "metadata": {},
   "outputs": [],
   "source": [
    "# Convert the image to grayscale\n",
    "gray_image = cv2.cvtColor(image, cv2.COLOR_BGR2GRAY)\n",
    "\n",
    "# Display the grayscale image\n",
    "cv2.imshow('Grayscale Image', gray_image)\n",
    "cv2.waitKey(0)\n",
    "cv2.destroyAllWindows()\n"
   ]
  },
  {
   "cell_type": "code",
   "execution_count": 8,
   "metadata": {},
   "outputs": [],
   "source": [
    " \n",
    "\n",
    "# Convert the image to different color spaces\n",
    "hsv_image = cv2.cvtColor(image, cv2.COLOR_BGR2HSV)\n",
    "lab_image = cv2.cvtColor(image, cv2.COLOR_BGR2LAB)\n",
    "hls_image = cv2.cvtColor(image, cv2.COLOR_BGR2HLS)\n",
    "\n",
    "\n",
    "# Display the grayscale image\n",
    "cv2.imshow('Grayscale Image', gray_image)\n",
    "\n",
    "# Display the HSV image\n",
    "cv2.imshow('HSV Image', hsv_image)\n",
    "\n",
    "# Display the LAB image\n",
    "cv2.imshow('LAB Image', lab_image)\n",
    "\n",
    "# Display the HLS image\n",
    "cv2.imshow('HLS Image', hls_image)\n",
    "\n",
    "# Wait for a key press and close the windows\n",
    "cv2.waitKey(0)\n",
    "cv2.destroyAllWindows()\n"
   ]
  },
  {
   "cell_type": "markdown",
   "metadata": {},
   "source": [
    "Vedio Capture from webcam"
   ]
  },
  {
   "cell_type": "code",
   "execution_count": 9,
   "metadata": {},
   "outputs": [],
   "source": [
    "# Capture video from the default camera\n",
    "cap = cv2.VideoCapture(0)\n",
    "\n",
    "while True:\n",
    "    ret, frame = cap.read()\n",
    "    if not ret:\n",
    "        break\n",
    "\n",
    "    # Display the resulting frame\n",
    "    cv2.imshow('Webcam', frame)\n",
    "\n",
    "    if cv2.waitKey(1) & 0xFF == ord('q'):\n",
    "        break\n",
    "\n",
    "# Release the capture and close windows\n",
    "cap.release()\n",
    "cv2.destroyAllWindows()\n"
   ]
  },
  {
   "cell_type": "markdown",
   "metadata": {},
   "source": [
    "Face Detection Using Image"
   ]
  },
  {
   "cell_type": "code",
   "execution_count": 11,
   "metadata": {},
   "outputs": [],
   "source": [
    "# Load the pre-trained Haar Cascade for face detection\n",
    "face_cascade = cv2.CascadeClassifier(cv2.data.haarcascades + 'haarcascade_frontalface_default.xml')\n",
    "\n",
    "# Read an image\n",
    "image = cv2.imread('Ekeswari.png')\n",
    "gray_image = cv2.cvtColor(image, cv2.COLOR_BGR2GRAY)\n",
    "\n",
    "# Detect faces\n",
    "faces = face_cascade.detectMultiScale(gray_image, scaleFactor=1.1, minNeighbors=5, minSize=(30, 30))\n",
    "\n",
    "# Draw rectangles around faces\n",
    "for (x, y, w, h) in faces:\n",
    "    cv2.rectangle(image, (x, y), (x+w, y+h), (255, 0, 0), 2)\n",
    "\n",
    "# Display the image with detected faces\n",
    "cv2.imshow('Faces', image)\n",
    "cv2.waitKey(0)\n",
    "cv2.destroyAllWindows()\n"
   ]
  },
  {
   "cell_type": "markdown",
   "metadata": {},
   "source": [
    "Face Detection using Webcam"
   ]
  },
  {
   "cell_type": "code",
   "execution_count": 12,
   "metadata": {},
   "outputs": [],
   "source": [
    "# Load the pre-trained Haar Cascade for face detection\n",
    "face_cascade = cv2.CascadeClassifier(cv2.data.haarcascades + 'haarcascade_frontalface_default.xml')\n",
    "\n",
    "# Start video capture (0 for default webcam)\n",
    "cap = cv2.VideoCapture(0)\n",
    "\n",
    "while True:\n",
    "    # Capture frame-by-frame\n",
    "    ret, frame = cap.read()\n",
    "    \n",
    "    # Check if frame is captured\n",
    "    if not ret:\n",
    "        break\n",
    "\n",
    "    # Convert the frame to grayscale\n",
    "    gray_frame = cv2.cvtColor(frame, cv2.COLOR_BGR2GRAY)\n",
    "\n",
    "    # Detect faces\n",
    "    faces = face_cascade.detectMultiScale(gray_frame, scaleFactor=1.1, minNeighbors=5, minSize=(30, 30))\n",
    "\n",
    "    # Draw rectangles around faces\n",
    "    for (x, y, w, h) in faces:\n",
    "        cv2.rectangle(frame, (x, y), (x+w, y+h), (255, 0, 0), 2)\n",
    "\n",
    "    # Display the frame with detected faces\n",
    "    cv2.imshow('Faces', frame)\n",
    "\n",
    "    # Break the loop on 'q' key press\n",
    "    if cv2.waitKey(1) & 0xFF == ord('q'):\n",
    "        break\n",
    "\n",
    "# Release the capture and close windows\n",
    "cap.release()\n",
    "cv2.destroyAllWindows()\n"
   ]
  },
  {
   "cell_type": "markdown",
   "metadata": {},
   "source": [
    "Eye Detection "
   ]
  },
  {
   "cell_type": "code",
   "execution_count": 13,
   "metadata": {},
   "outputs": [],
   "source": [
    " \n",
    "# Load the pre-trained Haar Cascade for eye detection\n",
    "eye_cascade = cv2.CascadeClassifier(cv2.data.haarcascades + 'haarcascade_eye.xml')\n",
    "\n",
    "# Start video capture (0 for default webcam)\n",
    "cap = cv2.VideoCapture(0)\n",
    "\n",
    "while True:\n",
    "    # Capture frame-by-frame\n",
    "    ret, frame = cap.read()\n",
    "    \n",
    "    # Check if frame is captured\n",
    "    if not ret:\n",
    "        break\n",
    "\n",
    "    # Convert the frame to grayscale\n",
    "    gray_frame = cv2.cvtColor(frame, cv2.COLOR_BGR2GRAY)\n",
    "\n",
    "    # Detect eyes\n",
    "    eyes = eye_cascade.detectMultiScale(gray_frame, scaleFactor=1.1, minNeighbors=5, minSize=(30, 30))\n",
    "\n",
    "    # Draw rectangles around eyes\n",
    "    for (x, y, w, h) in eyes:\n",
    "        cv2.rectangle(frame, (x, y), (x+w, y+h), (255, 0, 0), 2)\n",
    "\n",
    "    # Display the frame with detected eyes\n",
    "    cv2.imshow('Eyes', frame)\n",
    "\n",
    "    # Break the loop on 'q' key press\n",
    "    if cv2.waitKey(1) & 0xFF == ord('q'):\n",
    "        break\n",
    "\n",
    "# Release the capture and close windows\n",
    "cap.release()\n",
    "cv2.destroyAllWindows()\n"
   ]
  },
  {
   "cell_type": "code",
   "execution_count": 14,
   "metadata": {},
   "outputs": [],
   "source": [
    "# Load the cascades\n",
    "face_cascade = cv2.CascadeClassifier(cv2.data.haarcascades + 'haarcascade_frontalface_default.xml')\n",
    "eye_cascade = cv2.CascadeClassifier(cv2.data.haarcascades + 'haarcascade_eye.xml')\n",
    "\n",
    "# Capture video from the webcam\n",
    "cap = cv2.VideoCapture(0)\n",
    "\n",
    "while True:\n",
    "    # Read the frame\n",
    "    ret, frame = cap.read()\n",
    "    if not ret:\n",
    "        break\n",
    "\n",
    "    # Convert to grayscale\n",
    "    gray = cv2.cvtColor(frame, cv2.COLOR_BGR2GRAY)\n",
    "\n",
    "    # Detect faces\n",
    "    faces = face_cascade.detectMultiScale(gray, 1.1, 4)\n",
    "\n",
    "    # Draw rectangle around the faces and detect eyes within the face regions\n",
    "    for (x, y, w, h) in faces:\n",
    "        cv2.rectangle(frame, (x, y), (x+w, y+h), (255, 0, 0), 2)\n",
    "        roi_gray = gray[y:y+h, x:x+w]\n",
    "        roi_color = frame[y:y+h, x:x+w]\n",
    "        eyes = eye_cascade.detectMultiScale(roi_gray)\n",
    "        for (ex, ey, ew, eh) in eyes:\n",
    "            cv2.rectangle(roi_color, (ex, ey), (ex+ew, ey+eh), (0, 255, 0), 2)\n",
    "\n",
    "    # Display the frame\n",
    "    cv2.imshow('Face and Eye Detection', frame)\n",
    "\n",
    "    # Break the loop if the 'q' key is pressed\n",
    "    if cv2.waitKey(1) & 0xFF == ord('q'):\n",
    "        break\n",
    "\n",
    "# Release the capture and close windows\n",
    "cap.release()\n",
    "cv2.destroyAllWindows()\n"
   ]
  }
 ],
 "metadata": {
  "kernelspec": {
   "display_name": "Python 3",
   "language": "python",
   "name": "python3"
  },
  "language_info": {
   "codemirror_mode": {
    "name": "ipython",
    "version": 3
   },
   "file_extension": ".py",
   "mimetype": "text/x-python",
   "name": "python",
   "nbconvert_exporter": "python",
   "pygments_lexer": "ipython3",
   "version": "3.12.6"
  }
 },
 "nbformat": 4,
 "nbformat_minor": 2
}
